{
 "cells": [
  {
   "cell_type": "markdown",
   "id": "1e2d5369",
   "metadata": {},
   "source": [
    "## import packages"
   ]
  },
  {
   "cell_type": "code",
   "execution_count": 1,
   "id": "1ada179e",
   "metadata": {},
   "outputs": [
    {
     "name": "stderr",
     "output_type": "stream",
     "text": [
      "/Users/STADIA_AD/Desktop/IR-project/venv/lib/python3.13/site-packages/tqdm/auto.py:21: TqdmWarning: IProgress not found. Please update jupyter and ipywidgets. See https://ipywidgets.readthedocs.io/en/stable/user_install.html\n",
      "  from .autonotebook import tqdm as notebook_tqdm\n"
     ]
    }
   ],
   "source": [
    "import pandas as pd\n",
    "from tqdm import tqdm\n",
    "from app.services.evaluator import compute_recall,compute_precision,compute_average_precision,compute_precision_at_k,compute_mrr\n",
    "from app.services.embeddings_service import EmbeddingSearcher\n",
    "import os\n",
    "\n",
    "\n",
    "dataset_name1='nano-beir/arguana'\n",
    "dataset_name2='beir/webis-touche2020/v2'\n",
    "dataset_name3='beir/quora/test'\n",
    "dataset_name4='antique/test'\n",
    "\n",
    "datasetname=dataset_name4\n",
    "name=datasetname.replace(\"/\", \"-\").replace(\"\\\\\", \"_\").strip()"
   ]
  },
  {
   "cell_type": "markdown",
   "id": "5adc7f7d",
   "metadata": {},
   "source": [
    "## Load queries and qrels files"
   ]
  },
  {
   "cell_type": "code",
   "execution_count": 2,
   "id": "51e746ef",
   "metadata": {},
   "outputs": [],
   "source": [
    "if not datasetname:\n",
    "    raise ValueError(\"datasetname variable is not defined\")\n",
    "\n",
    "qrels_df = pd.read_csv(f\"data/{name}/qrels.tsv\", sep=\"\\t\", names=[\"query_id\", \"doc_id\", \"relevance\"])\n",
    "# print(qrels_df)\n",
    "queries_df = pd.read_csv(f\"data/{name}/queries.tsv\", sep=\"\\t\", names=[\"query_id\", \"text\"])\n"
   ]
  },
  {
   "cell_type": "markdown",
   "id": "25bbdc10",
   "metadata": {},
   "source": [
    "# make instance from Embedding"
   ]
  },
  {
   "cell_type": "code",
   "execution_count": 3,
   "id": "dffcbf64",
   "metadata": {},
   "outputs": [
    {
     "name": "stdout",
     "output_type": "stream",
     "text": [
      "MPS backend is available.\n",
      "antique-test\n",
      "🔍 Loading embeddings documents\n"
     ]
    },
    {
     "data": {
      "text/plain": [
       "<app.services.embeddings_service.EmbeddingSearcher at 0x2a96b27b0>"
      ]
     },
     "execution_count": 3,
     "metadata": {},
     "output_type": "execute_result"
    }
   ],
   "source": [
    "embedding=EmbeddingSearcher(collection_name=name)\n",
    "print(name)\n",
    "embedding.load()\n"
   ]
  },
  {
   "cell_type": "markdown",
   "id": "dc435b9b",
   "metadata": {},
   "source": [
    "## Evaluation "
   ]
  },
  {
   "cell_type": "code",
   "execution_count": 4,
   "id": "57de8cd1",
   "metadata": {},
   "outputs": [
    {
     "name": "stderr",
     "output_type": "stream",
     "text": [
      "  0%|          | 0/200 [00:00<?, ?it/s]"
     ]
    },
    {
     "name": "stderr",
     "output_type": "stream",
     "text": [
      "100%|██████████| 200/200 [01:07<00:00,  2.98it/s]"
     ]
    },
    {
     "name": "stdout",
     "output_type": "stream",
     "text": [
      "MAP: 0.2110\n",
      "MRR: 0.8435\n",
      "All Recall values: [0.2777777777777778, 0.7333333333333333, 0.6956521739130435, 0.7804878048780488, 0.7419354838709677, 0.75, 0.45454545454545453, 0.6896551724137931, 0.3548387096774194, 0.2777777777777778, 0.4594594594594595, 0.43478260869565216, 0.88, 0.6451612903225806, 0.6666666666666666, 0.5161290322580645, 0.4782608695652174, 0.6136363636363636, 0.4117647058823529, 0.6333333333333333, 0.325, 0.4666666666666667, 0.5135135135135135, 0.5384615384615384, 0.95, 0.6764705882352942, 0.35294117647058826, 0.4827586206896552, 0.7352941176470589, 0.3, 0.4772727272727273, 0.8888888888888888, 0.84, 0.38461538461538464, 0.9655172413793104, 0.6428571428571429, 0.7346938775510204, 0.7555555555555555, 0.42857142857142855, 0.6206896551724138, 0.5952380952380952, 0.8333333333333334, 0.8260869565217391, 0.6666666666666666, 0.5416666666666666, 0.5882352941176471, 0.23333333333333334, 0.8285714285714286, 0.6923076923076923, 0.4, 0.4, 0.3225806451612903, 0.25, 0.3902439024390244, 0.7142857142857143, 0.125, 0.5416666666666666, 0.42857142857142855, 0.34615384615384615, 0.5384615384615384, 0.5555555555555556, 0.38, 1.0, 0.5172413793103449, 0.5, 0.5, 0.8709677419354839, 0.7857142857142857, 0.6, 0.5151515151515151, 0.375, 0.7575757575757576, 0.7428571428571429, 0.6875, 0.75, 0.6296296296296297, 0.8, 0.7948717948717948, 0.78125, 0.78125, 0.7142857142857143, 0.35294117647058826, 0.4523809523809524, 0.5238095238095238, 0.36585365853658536, 0.8181818181818182, 0.8421052631578947, 0.3888888888888889, 0.6, 0.7666666666666667, 0.6666666666666666, 0.6060606060606061, 0.75, 0.6, 0.484375, 0.6896551724137931, 0.21428571428571427, 1.0, 0.6944444444444444, 0.6764705882352942, 0.7241379310344828, 0.8148148148148148, 0.64, 0.782608695652174, 0.4666666666666667, 0.6, 0.078125, 0.08333333333333333, 0.3023255813953488, 0.8695652173913043, 0.3548387096774194, 0.5555555555555556, 0.7837837837837838, 0.3333333333333333, 0.5333333333333333, 0.3870967741935484, 0.75, 0.7058823529411765, 0.52, 0.6829268292682927, 0.6774193548387096, 0.9259259259259259, 0.84, 0.6666666666666666, 0.4318181818181818, 0.6, 0.46511627906976744, 0.8235294117647058, 0.5714285714285714, 0.6666666666666666, 0.7586206896551724, 0.7647058823529411, 0.5625, 0.8484848484848485, 0.6451612903225806, 0.6060606060606061, 0.25, 0.18604651162790697, 0.5, 0.0, 0.47058823529411764, 0.5789473684210527, 0.717948717948718, 0.2962962962962963, 0.35294117647058826, 0.5, 0.21212121212121213, 0.85, 0.8333333333333334, 0.13157894736842105, 0.5, 0.5135135135135135, 0.2708333333333333, 0.5, 0.5806451612903226, 0.8333333333333334, 0.96, 0.0, 0.2702702702702703, 0.5142857142857142, 0.6666666666666666, 0.9736842105263158, 0.6896551724137931, 0.8571428571428571, 0.7878787878787878, 0.4642857142857143, 0.6956521739130435, 0.631578947368421, 0.5, 0.59375, 0.7555555555555555, 0.46153846153846156, 0.717948717948718, 0.3448275862068966, 0.6153846153846154, 0.3076923076923077, 0.7575757575757576, 0.6176470588235294, 0.967741935483871, 0.4444444444444444, 0.5357142857142857, 0.45714285714285713, 0.6052631578947368, 0.4166666666666667, 0.9629629629629629, 0.3939393939393939, 0.6176470588235294, 0.28205128205128205, 0.17857142857142858, 0.782608695652174, 0.9117647058823529, 0.85, 0.42424242424242425, 0.2916666666666667, 0.7317073170731707, 0.6578947368421053, 0.7647058823529411, 0.5405405405405406, 0.775, 0.4166666666666667]\n",
      "All Precision@10 values: [0.4, 0.6, 0.7, 0.6, 0.5, 0.5, 0.2, 0.6, 0.1, 0.2, 0.2, 0.4, 0.0, 0.4, 0.4, 0.2, 0.4, 0.8, 0.2, 0.5, 0.3, 0.2, 0.2, 0.6, 0.4, 0.7, 0.3, 0.5, 0.4, 0.4, 0.1, 1.0, 0.5, 0.0, 0.7, 0.6, 0.7, 0.4, 0.2, 0.5, 0.6, 0.8, 0.6, 0.6, 0.7, 0.6, 0.2, 0.5, 0.3, 0.1, 0.6, 0.4, 0.0, 0.4, 0.6, 0.1, 0.6, 0.2, 0.4, 0.4, 0.3, 0.6, 0.6, 0.2, 0.6, 0.6, 0.3, 0.9, 0.3, 0.4, 0.1, 0.3, 0.9, 0.2, 0.7, 0.2, 0.3, 0.4, 0.4, 0.7, 0.7, 0.1, 0.2, 0.2, 0.4, 0.8, 0.7, 0.3, 0.6, 0.3, 1.0, 0.2, 0.5, 0.5, 0.1, 0.6, 0.1, 0.8, 0.5, 0.1, 0.4, 0.5, 0.5, 0.6, 0.7, 0.5, 0.1, 0.0, 0.4, 0.9, 0.2, 0.7, 0.4, 0.4, 0.3, 0.5, 0.5, 0.7, 0.5, 0.8, 0.3, 0.6, 0.7, 0.4, 0.3, 0.6, 0.1, 0.4, 0.0, 0.6, 0.1, 0.3, 0.4, 0.6, 0.4, 0.4, 0.1, 0.1, 0.3, 0.0, 0.4, 0.6, 0.7, 0.4, 0.1, 0.6, 0.1, 0.5, 0.3, 0.1, 0.2, 0.3, 0.2, 0.3, 1.0, 0.9, 0.7, 0.0, 0.0, 0.8, 0.6, 1.0, 0.5, 0.3, 0.5, 0.6, 0.7, 0.6, 0.8, 0.5, 0.3, 0.4, 0.5, 0.8, 0.3, 0.0, 0.5, 0.3, 0.4, 0.4, 0.9, 0.7, 0.7, 0.2, 0.5, 0.2, 0.4, 0.1, 0.1, 0.6, 0.7, 0.9, 0.7, 0.3, 0.7, 0.6, 1.0, 0.3, 0.5, 0.1]\n"
     ]
    },
    {
     "name": "stderr",
     "output_type": "stream",
     "text": [
      "\n"
     ]
    }
   ],
   "source": [
    "\n",
    "\n",
    "\n",
    "all_avg_precisions = []\n",
    "all_prec_at_10 = []\n",
    "all_mrr_ranks = []\n",
    "all_recall = []\n",
    "\n",
    "for _, row in tqdm(queries_df.iterrows(), total=len(queries_df)):\n",
    "    query_id = row[\"query_id\"]\n",
    "    query_text = row[\"text\"]\n",
    "\n",
    "    # Use your VSM search function\n",
    "    search_results =embedding.search_vector_index(query_text,top_k=1000)\n",
    "     # Access the list of result dicts\n",
    "    result_items = search_results[\"results\"]\n",
    "    retrieved_docs = [str(doc[\"doc_id\"]) for doc in result_items]\n",
    "\n",
    "    # Step 2: Convert both retrieved and relevant doc_ids to strings\n",
    "    relevant_docs = set(qrels_df[qrels_df[\"query_id\"] == query_id][\"doc_id\"].astype(str))\n",
    "\n",
    "\n",
    "    # retrieved_docs = [doc[\"doc_id\"] for doc in search_results]\n",
    "\n",
    "    # Compute metrics\n",
    "    avg_precision = compute_average_precision(relevant_docs, retrieved_docs)\n",
    "    prec_at_10 = compute_precision_at_k(relevant_docs, retrieved_docs, k=10)\n",
    "    recall=compute_recall(relevant_docs, retrieved_docs)\n",
    "\n",
    "    # Compute rank of first relevant doc for MRR\n",
    "    rank = 0\n",
    "    for i, doc_id in enumerate(retrieved_docs):\n",
    "        if doc_id in relevant_docs:\n",
    "            rank = i + 1\n",
    "            break\n",
    "\n",
    "    all_avg_precisions.append(avg_precision)\n",
    "    all_prec_at_10.append(prec_at_10)\n",
    "    all_mrr_ranks.append(rank)\n",
    "    all_recall.append(recall)\n",
    "\n",
    "# Final scores\n",
    "map_score = sum(all_avg_precisions) / len(all_avg_precisions)\n",
    "mean_prec_at_10 = sum(all_prec_at_10) / len(all_prec_at_10)\n",
    "mrr_score = compute_mrr(all_mrr_ranks)\n",
    "\n",
    "print(f\"MAP: {map_score:.4f}\")\n",
    "print(f\"MRR: {mrr_score:.4f}\")\n",
    "print(f\"All Recall values: {all_recall}\")\n",
    "print(f\"All Precision@10 values: {all_prec_at_10}\")\n"
   ]
  },
  {
   "cell_type": "code",
   "execution_count": null,
   "id": "d25e2686",
   "metadata": {},
   "outputs": [],
   "source": [
    "\n"
   ]
  },
  {
   "cell_type": "markdown",
   "id": "c5990ae6",
   "metadata": {},
   "source": [
    "## save result"
   ]
  },
  {
   "cell_type": "code",
   "execution_count": null,
   "id": "1b03a214",
   "metadata": {},
   "outputs": [],
   "source": [
    "summary = {\n",
    "    \"Mean Average Precision\": map_score,\n",
    "    \"Mean Reciprocal Rank\": mrr_score\n",
    "}\n",
    "import json\n",
    "\n",
    "output_dir = os.path.join(\"results\", \"Embedding\", name)\n",
    "os.makedirs(output_dir)\n",
    "output_path = os.path.join(output_dir,\"evaluation_summary.json\")\n",
    "\n",
    "with open(output_path, \"w\") as f:\n",
    "    json.dump(summary, f)\n",
    "\n",
    "    "
   ]
  },
  {
   "cell_type": "code",
   "execution_count": 13,
   "id": "b0d98e3e",
   "metadata": {},
   "outputs": [],
   "source": [
    "# Create DataFrame\n",
    "df = pd.DataFrame({'All Recall value': all_recall, 'All Precision@10 values': all_prec_at_10})\n",
    "\n",
    "\n",
    "from pathlib import Path\n",
    "\n",
    "\n",
    "# Convert string path to Path object\n",
    "output_dir = Path(\"results/Embedding/\")/name\n",
    "\n",
    "# Create directory if it doesn't exist\n",
    "output_dir.mkdir(parents=True, exist_ok=True)\n",
    "\n",
    "# Save as TSV\n",
    "df.to_csv(output_dir / 'evaluation.tsv', sep='\\t', index=False)\n",
    "\n"
   ]
  },
  {
   "cell_type": "code",
   "execution_count": null,
   "id": "601b89ff",
   "metadata": {},
   "outputs": [],
   "source": []
  }
 ],
 "metadata": {
  "kernelspec": {
   "display_name": "venv",
   "language": "python",
   "name": "python3"
  },
  "language_info": {
   "codemirror_mode": {
    "name": "ipython",
    "version": 3
   },
   "file_extension": ".py",
   "mimetype": "text/x-python",
   "name": "python",
   "nbconvert_exporter": "python",
   "pygments_lexer": "ipython3",
   "version": "3.13.0"
  }
 },
 "nbformat": 4,
 "nbformat_minor": 5
}
