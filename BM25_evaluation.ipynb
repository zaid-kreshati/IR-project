{
 "cells": [
  {
   "cell_type": "markdown",
   "id": "1e2d5369",
   "metadata": {},
   "source": [
    "## import packages"
   ]
  },
  {
   "cell_type": "code",
   "execution_count": 1,
   "id": "1ada179e",
   "metadata": {},
   "outputs": [],
   "source": [
    "import pandas as pd\n",
    "from tqdm import tqdm\n",
    "from app.services.evaluation.map_evaluator import compute_map,average_precision\n",
    "from app.services.bm25_service import BM25Service\n",
    "import os\n"
   ]
  },
  {
   "cell_type": "markdown",
   "id": "b49b4008",
   "metadata": {},
   "source": [
    "## define datasetname"
   ]
  },
  {
   "cell_type": "code",
   "execution_count": 2,
   "id": "4a4532b1",
   "metadata": {},
   "outputs": [],
   "source": [
    "dataset_name1='nano-beir/arguana'\n",
    "dataset_name2='beir/webis-touche2020/v2'\n",
    "dataset_name3='beir/quora/test'\n",
    "\n",
    "datasetname=dataset_name1\n",
    "name=datasetname.replace(\"/\", \"-\").replace(\"\\\\\", \"_\").strip()"
   ]
  },
  {
   "cell_type": "markdown",
   "id": "5adc7f7d",
   "metadata": {},
   "source": [
    "## Load queries and qrels files"
   ]
  },
  {
   "cell_type": "code",
   "execution_count": 3,
   "id": "51e746ef",
   "metadata": {},
   "outputs": [],
   "source": [
    "if not datasetname:\n",
    "    raise ValueError(\"datasetname variable is not defined\")\n",
    "\n",
    "qrels_df = pd.read_csv(f\"data/{datasetname}/qrels.tsv\", sep=\"\\t\", names=[\"query_id\", \"doc_id\", \"relevance\"])\n",
    "# print(qrels_df)\n",
    "queries_df = pd.read_csv(f\"data/{datasetname}/queries.tsv\", sep=\"\\t\", names=[\"query_id\", \"text\"])\n"
   ]
  },
  {
   "cell_type": "markdown",
   "id": "25bbdc10",
   "metadata": {},
   "source": [
    "# make instance from BM25"
   ]
  },
  {
   "cell_type": "code",
   "execution_count": 4,
   "id": "dffcbf64",
   "metadata": {},
   "outputs": [
    {
     "name": "stdout",
     "output_type": "stream",
     "text": [
      "⚠️ Loading BM25 model for collection: nano-beir-arguana\n"
     ]
    }
   ],
   "source": [
    "bm25=BM25Service(datasetname)\n",
    "bm25.load()\n",
    "map_scores = []\n",
    "query_ids = []"
   ]
  },
  {
   "cell_type": "markdown",
   "id": "94186016",
   "metadata": {},
   "source": [
    "## compute MAP"
   ]
  },
  {
   "cell_type": "code",
   "execution_count": 8,
   "id": "94e6cf65",
   "metadata": {},
   "outputs": [
    {
     "name": "stderr",
     "output_type": "stream",
     "text": [
      "  0%|          | 0/50 [00:00<?, ?it/s]"
     ]
    },
    {
     "name": "stdout",
     "output_type": "stream",
     "text": [
      "🔍 Searching BM25 model for collection: nano-beir-arguana\n"
     ]
    },
    {
     "name": "stderr",
     "output_type": "stream",
     "text": [
      "  4%|▍         | 2/50 [00:00<00:09,  5.16it/s]"
     ]
    },
    {
     "name": "stdout",
     "output_type": "stream",
     "text": [
      "relevant_docs: {'test-science-wsihwclscaaw-con01b'}\n",
      "\n",
      " map_score: 0.07692307692307693\n",
      "🔍 Searching BM25 model for collection: nano-beir-arguana\n",
      "relevant_docs: {'test-economy-eptpghdtre-pro02b'}\n",
      "\n",
      " map_score: 0.034482758620689655\n",
      "🔍 Searching BM25 model for collection: nano-beir-arguana\n"
     ]
    },
    {
     "name": "stderr",
     "output_type": "stream",
     "text": [
      "  6%|▌         | 3/50 [00:00<00:10,  4.48it/s]"
     ]
    },
    {
     "name": "stdout",
     "output_type": "stream",
     "text": [
      "relevant_docs: {'test-culture-mthbah-pro02b'}\n",
      "\n",
      " map_score: 0.5\n",
      "🔍 Searching BM25 model for collection: nano-beir-arguana\n",
      "relevant_docs: {'test-international-amehbuaisji-con04b'}\n",
      "\n",
      " map_score: 0.5\n"
     ]
    },
    {
     "name": "stderr",
     "output_type": "stream",
     "text": [
      "  8%|▊         | 4/50 [00:00<00:09,  4.61it/s]"
     ]
    },
    {
     "name": "stdout",
     "output_type": "stream",
     "text": [
      "🔍 Searching BM25 model for collection: nano-beir-arguana\n"
     ]
    },
    {
     "name": "stderr",
     "output_type": "stream",
     "text": [
      " 10%|█         | 5/50 [00:01<00:09,  4.50it/s]"
     ]
    },
    {
     "name": "stdout",
     "output_type": "stream",
     "text": [
      "relevant_docs: {'test-health-hgwhwbjfs-pro03b'}\n",
      "\n",
      " map_score: 0.0034602076124567475\n",
      "🔍 Searching BM25 model for collection: nano-beir-arguana\n"
     ]
    },
    {
     "name": "stderr",
     "output_type": "stream",
     "text": [
      " 12%|█▏        | 6/50 [00:01<00:10,  4.06it/s]"
     ]
    },
    {
     "name": "stdout",
     "output_type": "stream",
     "text": [
      "relevant_docs: {'test-health-dhghwapgd-con01b'}\n",
      "\n",
      " map_score: 0.5\n",
      "🔍 Searching BM25 model for collection: nano-beir-arguana\n"
     ]
    },
    {
     "name": "stderr",
     "output_type": "stream",
     "text": [
      " 14%|█▍        | 7/50 [00:01<00:12,  3.53it/s]"
     ]
    },
    {
     "name": "stdout",
     "output_type": "stream",
     "text": [
      "relevant_docs: {'test-education-pstrgsehwt-pro03b'}\n",
      "\n",
      " map_score: 1.0\n",
      "🔍 Searching BM25 model for collection: nano-beir-arguana\n"
     ]
    },
    {
     "name": "stderr",
     "output_type": "stream",
     "text": [
      " 16%|█▌        | 8/50 [00:01<00:10,  3.86it/s]"
     ]
    },
    {
     "name": "stdout",
     "output_type": "stream",
     "text": [
      "relevant_docs: {'test-economy-epiasghbf-con01b'}\n",
      "\n",
      " map_score: 0.030303030303030304\n",
      "🔍 Searching BM25 model for collection: nano-beir-arguana\n"
     ]
    },
    {
     "name": "stderr",
     "output_type": "stream",
     "text": [
      " 18%|█▊        | 9/50 [00:02<00:12,  3.36it/s]"
     ]
    },
    {
     "name": "stdout",
     "output_type": "stream",
     "text": [
      "relevant_docs: {'test-sport-otshwbe2uuyt-con03b'}\n",
      "\n",
      " map_score: 0.25\n",
      "🔍 Searching BM25 model for collection: nano-beir-arguana\n"
     ]
    },
    {
     "name": "stderr",
     "output_type": "stream",
     "text": [
      " 20%|██        | 10/50 [00:02<00:10,  3.69it/s]"
     ]
    },
    {
     "name": "stdout",
     "output_type": "stream",
     "text": [
      "relevant_docs: {'test-politics-gvhbhlsbr-con04b'}\n",
      "\n",
      " map_score: 0.3333333333333333\n",
      "🔍 Searching BM25 model for collection: nano-beir-arguana\n"
     ]
    },
    {
     "name": "stderr",
     "output_type": "stream",
     "text": [
      " 22%|██▏       | 11/50 [00:02<00:11,  3.45it/s]"
     ]
    },
    {
     "name": "stdout",
     "output_type": "stream",
     "text": [
      "relevant_docs: {'test-economy-egecegphw-pro02b'}\n",
      "\n",
      " map_score: 0.5\n",
      "🔍 Searching BM25 model for collection: nano-beir-arguana\n"
     ]
    },
    {
     "name": "stderr",
     "output_type": "stream",
     "text": [
      " 24%|██▍       | 12/50 [00:03<00:10,  3.64it/s]"
     ]
    },
    {
     "name": "stdout",
     "output_type": "stream",
     "text": [
      "relevant_docs: {'test-politics-ypppgvhwmv-pro03b'}\n",
      "\n",
      " map_score: 0.5\n",
      "🔍 Searching BM25 model for collection: nano-beir-arguana\n"
     ]
    },
    {
     "name": "stderr",
     "output_type": "stream",
     "text": [
      " 26%|██▌       | 13/50 [00:03<00:10,  3.69it/s]"
     ]
    },
    {
     "name": "stdout",
     "output_type": "stream",
     "text": [
      "relevant_docs: {'test-law-phwmfri-con03b'}\n",
      "\n",
      " map_score: 0.0007479431563201197\n",
      "🔍 Searching BM25 model for collection: nano-beir-arguana\n"
     ]
    },
    {
     "name": "stderr",
     "output_type": "stream",
     "text": [
      " 28%|██▊       | 14/50 [00:04<00:13,  2.61it/s]"
     ]
    },
    {
     "name": "stdout",
     "output_type": "stream",
     "text": [
      "relevant_docs: {'test-culture-tlhrilsfhwr-pro01b'}\n",
      "\n",
      " map_score: 0.125\n",
      "🔍 Searching BM25 model for collection: nano-beir-arguana\n"
     ]
    },
    {
     "name": "stderr",
     "output_type": "stream",
     "text": [
      " 30%|███       | 15/50 [00:04<00:13,  2.67it/s]"
     ]
    },
    {
     "name": "stdout",
     "output_type": "stream",
     "text": [
      "relevant_docs: {'test-culture-thbcsbptwhht-pro04b'}\n",
      "\n",
      " map_score: 0.2\n",
      "🔍 Searching BM25 model for collection: nano-beir-arguana\n"
     ]
    },
    {
     "name": "stderr",
     "output_type": "stream",
     "text": [
      " 34%|███▍      | 17/50 [00:04<00:09,  3.41it/s]"
     ]
    },
    {
     "name": "stdout",
     "output_type": "stream",
     "text": [
      "relevant_docs: {'test-economy-egppphbcb-pro03b'}\n",
      "\n",
      " map_score: 0.5\n",
      "🔍 Searching BM25 model for collection: nano-beir-arguana\n",
      "relevant_docs: {'test-health-ahiahbgbsp-pro02b'}\n",
      "\n",
      " map_score: 0.029411764705882353\n",
      "🔍 Searching BM25 model for collection: nano-beir-arguana\n"
     ]
    },
    {
     "name": "stderr",
     "output_type": "stream",
     "text": [
      " 36%|███▌      | 18/50 [00:05<00:08,  3.67it/s]"
     ]
    },
    {
     "name": "stdout",
     "output_type": "stream",
     "text": [
      "relevant_docs: {'test-health-dhiacihwph-pro01b'}\n",
      "\n",
      " map_score: 0.25\n",
      "🔍 Searching BM25 model for collection: nano-beir-arguana\n"
     ]
    },
    {
     "name": "stderr",
     "output_type": "stream",
     "text": [
      " 38%|███▊      | 19/50 [00:05<00:08,  3.77it/s]"
     ]
    },
    {
     "name": "stdout",
     "output_type": "stream",
     "text": [
      "relevant_docs: {'test-politics-cpegiepgh-con01b'}\n",
      "\n",
      " map_score: 0.5\n",
      "🔍 Searching BM25 model for collection: nano-beir-arguana\n"
     ]
    },
    {
     "name": "stderr",
     "output_type": "stream",
     "text": [
      " 40%|████      | 20/50 [00:06<00:11,  2.51it/s]"
     ]
    },
    {
     "name": "stdout",
     "output_type": "stream",
     "text": [
      "relevant_docs: {'test-religion-grcrgshwbr-pro03b'}\n",
      "\n",
      " map_score: 0.25\n",
      "🔍 Searching BM25 model for collection: nano-beir-arguana\n"
     ]
    },
    {
     "name": "stderr",
     "output_type": "stream",
     "text": [
      " 42%|████▏     | 21/50 [00:06<00:11,  2.60it/s]"
     ]
    },
    {
     "name": "stdout",
     "output_type": "stream",
     "text": [
      "relevant_docs: {'test-culture-mthbah-pro05b'}\n",
      "\n",
      " map_score: 0.004901960784313725\n",
      "🔍 Searching BM25 model for collection: nano-beir-arguana\n"
     ]
    },
    {
     "name": "stderr",
     "output_type": "stream",
     "text": [
      " 44%|████▍     | 22/50 [00:06<00:09,  2.85it/s]"
     ]
    },
    {
     "name": "stdout",
     "output_type": "stream",
     "text": [
      "relevant_docs: {'test-politics-oapdhwinkp-con01b'}\n",
      "\n",
      " map_score: 0.5\n",
      "🔍 Searching BM25 model for collection: nano-beir-arguana\n"
     ]
    },
    {
     "name": "stderr",
     "output_type": "stream",
     "text": [
      " 48%|████▊     | 24/50 [00:07<00:07,  3.33it/s]"
     ]
    },
    {
     "name": "stdout",
     "output_type": "stream",
     "text": [
      "relevant_docs: {'test-free-speech-debate-ldhwprhs-pro02b'}\n",
      "\n",
      " map_score: 0.02702702702702703\n",
      "🔍 Searching BM25 model for collection: nano-beir-arguana\n",
      "relevant_docs: {'test-society-epiasghbf-con04b'}\n",
      "\n",
      " map_score: 0.00034129692832764505\n",
      "🔍 Searching BM25 model for collection: nano-beir-arguana\n"
     ]
    },
    {
     "name": "stderr",
     "output_type": "stream",
     "text": [
      " 50%|█████     | 25/50 [00:07<00:06,  3.87it/s]"
     ]
    },
    {
     "name": "stdout",
     "output_type": "stream",
     "text": [
      "relevant_docs: {'test-law-lgplhbssbco-pro02b'}\n",
      "\n",
      " map_score: 1.0\n",
      "🔍 Searching BM25 model for collection: nano-beir-arguana\n"
     ]
    },
    {
     "name": "stderr",
     "output_type": "stream",
     "text": [
      " 54%|█████▍    | 27/50 [00:07<00:05,  4.32it/s]"
     ]
    },
    {
     "name": "stdout",
     "output_type": "stream",
     "text": [
      "relevant_docs: {'test-health-dhghhbampt-con01b'}\n",
      "\n",
      " map_score: 0.02040816326530612\n",
      "🔍 Searching BM25 model for collection: nano-beir-arguana\n",
      "relevant_docs: {'test-law-umtlilhotac-con02b'}\n",
      "\n",
      " map_score: 0.0625\n",
      "🔍 Searching BM25 model for collection: nano-beir-arguana\n"
     ]
    },
    {
     "name": "stderr",
     "output_type": "stream",
     "text": [
      " 56%|█████▌    | 28/50 [00:07<00:04,  5.05it/s]"
     ]
    },
    {
     "name": "stdout",
     "output_type": "stream",
     "text": [
      "relevant_docs: {'test-politics-ypppgvhwmv-con03b'}\n",
      "\n",
      " map_score: 0.0011235955056179776\n",
      "🔍 Searching BM25 model for collection: nano-beir-arguana\n",
      "relevant_docs: {'test-international-appghblsba-con03b'}\n",
      "\n",
      " map_score: 0.3333333333333333\n"
     ]
    },
    {
     "name": "stderr",
     "output_type": "stream",
     "text": [
      " 58%|█████▊    | 29/50 [00:08<00:04,  4.98it/s]"
     ]
    },
    {
     "name": "stdout",
     "output_type": "stream",
     "text": [
      "🔍 Searching BM25 model for collection: nano-beir-arguana\n"
     ]
    },
    {
     "name": "stderr",
     "output_type": "stream",
     "text": [
      " 60%|██████    | 30/50 [00:08<00:04,  4.54it/s]"
     ]
    },
    {
     "name": "stdout",
     "output_type": "stream",
     "text": [
      "relevant_docs: {'test-culture-ascidfakhba-pro04b'}\n",
      "\n",
      " map_score: 0.011111111111111112\n",
      "🔍 Searching BM25 model for collection: nano-beir-arguana\n",
      "relevant_docs: {'test-education-usuprmhbu-con02b'}\n",
      "\n",
      " map_score: 1.0\n"
     ]
    },
    {
     "name": "stderr",
     "output_type": "stream",
     "text": [
      " 64%|██████▍   | 32/50 [00:08<00:03,  5.33it/s]"
     ]
    },
    {
     "name": "stdout",
     "output_type": "stream",
     "text": [
      "🔍 Searching BM25 model for collection: nano-beir-arguana\n",
      "relevant_docs: {'test-law-phwmfri-pro01b'}\n",
      "\n",
      " map_score: 1.0\n",
      "🔍 Searching BM25 model for collection: nano-beir-arguana\n"
     ]
    },
    {
     "name": "stderr",
     "output_type": "stream",
     "text": [
      " 66%|██████▌   | 33/50 [00:08<00:03,  4.63it/s]"
     ]
    },
    {
     "name": "stdout",
     "output_type": "stream",
     "text": [
      "relevant_docs: {'test-international-gmehwasr-pro05b'}\n",
      "\n",
      " map_score: 0.006493506493506494\n",
      "🔍 Searching BM25 model for collection: nano-beir-arguana\n"
     ]
    },
    {
     "name": "stderr",
     "output_type": "stream",
     "text": [
      " 68%|██████▊   | 34/50 [00:09<00:03,  4.48it/s]"
     ]
    },
    {
     "name": "stdout",
     "output_type": "stream",
     "text": [
      "relevant_docs: {'test-education-ughbuesbf-con03b'}\n",
      "\n",
      " map_score: 0.16666666666666666\n",
      "🔍 Searching BM25 model for collection: nano-beir-arguana\n",
      "relevant_docs: {'test-free-speech-debate-yfsdfkhbwu-pro02b'}\n",
      "\n",
      " map_score: 0.045454545454545456\n"
     ]
    },
    {
     "name": "stderr",
     "output_type": "stream",
     "text": [
      " 70%|███████   | 35/50 [00:09<00:03,  4.60it/s]"
     ]
    },
    {
     "name": "stdout",
     "output_type": "stream",
     "text": [
      "🔍 Searching BM25 model for collection: nano-beir-arguana\n"
     ]
    },
    {
     "name": "stderr",
     "output_type": "stream",
     "text": [
      " 72%|███████▏  | 36/50 [00:09<00:03,  4.18it/s]"
     ]
    },
    {
     "name": "stdout",
     "output_type": "stream",
     "text": [
      "relevant_docs: {'test-international-gmehwasr-con03b'}\n",
      "\n",
      " map_score: 0.0035971223021582736\n",
      "🔍 Searching BM25 model for collection: nano-beir-arguana\n"
     ]
    },
    {
     "name": "stderr",
     "output_type": "stream",
     "text": [
      " 76%|███████▌  | 38/50 [00:10<00:02,  4.63it/s]"
     ]
    },
    {
     "name": "stdout",
     "output_type": "stream",
     "text": [
      "relevant_docs: {'test-economy-egppphbcb-pro01b'}\n",
      "\n",
      " map_score: 0.5\n",
      "🔍 Searching BM25 model for collection: nano-beir-arguana\n",
      "relevant_docs: {'test-international-siacphbnt-pro04b'}\n",
      "\n",
      " map_score: 0.025\n",
      "🔍 Searching BM25 model for collection: nano-beir-arguana\n"
     ]
    },
    {
     "name": "stderr",
     "output_type": "stream",
     "text": [
      " 80%|████████  | 40/50 [00:10<00:01,  5.29it/s]"
     ]
    },
    {
     "name": "stdout",
     "output_type": "stream",
     "text": [
      "relevant_docs: {'test-economy-epegiahsc-pro02b'}\n",
      "\n",
      " map_score: 0.05555555555555555\n",
      "🔍 Searching BM25 model for collection: nano-beir-arguana\n",
      "relevant_docs: {'test-international-ipecfiepg-con02b'}\n",
      "\n",
      " map_score: 0.058823529411764705\n",
      "🔍 Searching BM25 model for collection: nano-beir-arguana\n"
     ]
    },
    {
     "name": "stderr",
     "output_type": "stream",
     "text": [
      " 84%|████████▍ | 42/50 [00:10<00:01,  5.62it/s]"
     ]
    },
    {
     "name": "stdout",
     "output_type": "stream",
     "text": [
      "relevant_docs: {'test-international-gpdwhwcusa-pro03b'}\n",
      "\n",
      " map_score: 0.3333333333333333\n",
      "🔍 Searching BM25 model for collection: nano-beir-arguana\n",
      "relevant_docs: {'test-religion-msgfhwbamec-con02b'}\n",
      "\n",
      " map_score: 0.25\n",
      "🔍 Searching BM25 model for collection: nano-beir-arguana\n"
     ]
    },
    {
     "name": "stderr",
     "output_type": "stream",
     "text": [
      " 86%|████████▌ | 43/50 [00:10<00:01,  5.39it/s]"
     ]
    },
    {
     "name": "stdout",
     "output_type": "stream",
     "text": [
      "relevant_docs: {'test-international-aghbfcpspr-pro03b'}\n",
      "\n",
      " map_score: 0.5\n",
      "🔍 Searching BM25 model for collection: nano-beir-arguana\n"
     ]
    },
    {
     "name": "stderr",
     "output_type": "stream",
     "text": [
      " 88%|████████▊ | 44/50 [00:11<00:01,  4.61it/s]"
     ]
    },
    {
     "name": "stdout",
     "output_type": "stream",
     "text": [
      "relevant_docs: {'test-digital-freedoms-dfiphbgs-pro01b'}\n",
      "\n",
      " map_score: 0.5\n",
      "🔍 Searching BM25 model for collection: nano-beir-arguana\n"
     ]
    },
    {
     "name": "stderr",
     "output_type": "stream",
     "text": [
      " 92%|█████████▏| 46/50 [00:11<00:00,  4.76it/s]"
     ]
    },
    {
     "name": "stdout",
     "output_type": "stream",
     "text": [
      "relevant_docs: {'test-philosophy-elhbrd-pro03b'}\n",
      "\n",
      " map_score: 1.0\n",
      "🔍 Searching BM25 model for collection: nano-beir-arguana\n",
      "relevant_docs: {'test-politics-glghssi-pro03b'}\n",
      "\n",
      " map_score: 0.2\n",
      "🔍 Searching BM25 model for collection: nano-beir-arguana\n"
     ]
    },
    {
     "name": "stderr",
     "output_type": "stream",
     "text": [
      " 94%|█████████▍| 47/50 [00:12<00:00,  3.63it/s]"
     ]
    },
    {
     "name": "stdout",
     "output_type": "stream",
     "text": [
      "relevant_docs: {'test-education-egscphsrdt-con01b'}\n",
      "\n",
      " map_score: 0.07142857142857142\n",
      "🔍 Searching BM25 model for collection: nano-beir-arguana\n"
     ]
    },
    {
     "name": "stderr",
     "output_type": "stream",
     "text": [
      " 96%|█████████▌| 48/50 [00:12<00:00,  3.42it/s]"
     ]
    },
    {
     "name": "stdout",
     "output_type": "stream",
     "text": [
      "relevant_docs: {'test-international-siacphbnt-pro01b'}\n",
      "\n",
      " map_score: 0.5\n",
      "🔍 Searching BM25 model for collection: nano-beir-arguana\n"
     ]
    },
    {
     "name": "stderr",
     "output_type": "stream",
     "text": [
      " 98%|█████████▊| 49/50 [00:12<00:00,  2.84it/s]"
     ]
    },
    {
     "name": "stdout",
     "output_type": "stream",
     "text": [
      "relevant_docs: {'test-economy-beplcpdffe-con04b'}\n",
      "\n",
      " map_score: 1.0\n",
      "🔍 Searching BM25 model for collection: nano-beir-arguana\n"
     ]
    },
    {
     "name": "stderr",
     "output_type": "stream",
     "text": [
      "100%|██████████| 50/50 [00:13<00:00,  3.74it/s]"
     ]
    },
    {
     "name": "stdout",
     "output_type": "stream",
     "text": [
      "relevant_docs: {'test-politics-lghwdecm-con02b'}\n",
      "\n",
      " map_score: 0.02564102564102564\n"
     ]
    },
    {
     "name": "stderr",
     "output_type": "stream",
     "text": [
      "\n"
     ]
    }
   ],
   "source": [
    "\n",
    "for _, row in tqdm(queries_df.iterrows(), total=len(queries_df)):\n",
    "    query_id = row[\"query_id\"]\n",
    "    query_text = row[\"text\"]\n",
    "    \n",
    "    # Get top_k docs from your system\n",
    "    search_results = bm25.search(query_text, top_k=10000)\n",
    "\n",
    "\n",
    "    # Access the list of result dicts\n",
    "    result_items = search_results[\"results\"]\n",
    "    retrieved_doc_ids = [str(doc[\"doc_id\"]) for doc in result_items]\n",
    "\n",
    "    map_score = compute_map(retrieved_doc_ids, qrels_df, query_id)\n",
    "    print(f\"\\n map_score: {map_score}\")\n",
    "    map_scores.append(map_score)\n",
    "    query_ids.append(query_id)\n",
    "    # print(f\"\\n✅ Mean Average Precision (MAP): {map_score:.4f}\")\n"
   ]
  },
  {
   "cell_type": "markdown",
   "id": "fcf3ca0b",
   "metadata": {},
   "source": [
    "## save files "
   ]
  },
  {
   "cell_type": "code",
   "execution_count": 6,
   "id": "77cd5d1b",
   "metadata": {},
   "outputs": [],
   "source": [
    "map_df = pd.DataFrame({\n",
    "    \"query_id\": query_ids,\n",
    "    \"map_score\": map_scores\n",
    "})\n",
    "\n",
    "output_dir = os.path.join(\"results\", \"MAP\", \"BM25\", name)\n",
    "os.makedirs(output_dir, exist_ok=True)\n",
    "\n",
    "output_path = os.path.join(output_dir, f\"{name}_map_scores.csv\")\n",
    "try:\n",
    "    map_df.to_csv(output_path, index=False)\n",
    "except Exception as e:\n",
    "    print(f\"Error saving file to {output_path}: {str(e)}\")\n",
    "    raise\n"
   ]
  },
  {
   "cell_type": "markdown",
   "id": "d1b04588",
   "metadata": {},
   "source": [
    "## get MAP result"
   ]
  },
  {
   "cell_type": "code",
   "execution_count": 7,
   "id": "6cbc8d27",
   "metadata": {},
   "outputs": [
    {
     "name": "stdout",
     "output_type": "stream",
     "text": [
      "\n",
      "📈 Overall MAP: 0.3057\n"
     ]
    }
   ],
   "source": [
    "# Also print overall MAP\n",
    "overall_map = sum(map_scores) / len(map_scores)\n",
    "print(f\"\\n📈 Overall MAP: {overall_map:.4f}\")"
   ]
  }
 ],
 "metadata": {
  "kernelspec": {
   "display_name": "venv",
   "language": "python",
   "name": "python3"
  },
  "language_info": {
   "codemirror_mode": {
    "name": "ipython",
    "version": 3
   },
   "file_extension": ".py",
   "mimetype": "text/x-python",
   "name": "python",
   "nbconvert_exporter": "python",
   "pygments_lexer": "ipython3",
   "version": "3.13.0"
  }
 },
 "nbformat": 4,
 "nbformat_minor": 5
}
