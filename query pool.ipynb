{
 "cells": [
  {
   "cell_type": "markdown",
   "id": "5faf6535",
   "metadata": {},
   "source": []
  },
  {
   "cell_type": "code",
   "execution_count": 1,
   "id": "40d8e677",
   "metadata": {},
   "outputs": [],
   "source": [
    "import os\n",
    "import json\n",
    "\n",
    "Query1_dir = \"data/beir-quora-test\"\n",
    "Query2_dir = \"data/nano-beir-arguana\"\n",
    "\n",
    "def load_queries_tsv(path):\n",
    "    queries_dict = {}\n",
    "    with open(path, 'r', encoding='utf-8') as f:\n",
    "        for line in f:\n",
    "            parts = line.strip().split('\\t')\n",
    "            if len(parts) == 2:\n",
    "                query_id, query = parts\n",
    "                # Convert query to boolean format\n",
    "                queries_dict[query_id] = {\n",
    "                    'text': query,\n",
    "                    'is_relevant': False\n",
    "                }\n",
    "    return queries_dict\n",
    "\n",
    "def extract_queries_from_qrels(qrels_path, queries_dict):\n",
    "    used_queries = {}\n",
    "    with open(qrels_path, 'r', encoding='utf-8') as f:\n",
    "        for line in f:\n",
    "            parts = line.strip().split('\\t')\n",
    "            if len(parts) >= 1:\n",
    "                query_id = parts[0]\n",
    "                if query_id in queries_dict:\n",
    "                    used_queries[query_id] = queries_dict[query_id]\n",
    "    return used_queries\n"
   ]
  },
  {
   "cell_type": "code",
   "execution_count": 2,
   "id": "5eabc825",
   "metadata": {},
   "outputs": [
    {
     "name": "stdout",
     "output_type": "stream",
     "text": [
      "✅ Query pool built with 10050 queries.\n"
     ]
    }
   ],
   "source": [
    "\n",
    "# Load queries with boolean relevance\n",
    "queries1 = load_queries_tsv(f\"{Query1_dir}/queries.tsv\")\n",
    "queries2 = load_queries_tsv(f\"{Query2_dir}/queries.tsv\")\n",
    "\n",
    "# Extract and mark relevant queries based on qrels\n",
    "queries_set_1 = extract_queries_from_qrels(f\"{Query1_dir}/qrels.tsv\", queries1)\n",
    "queries_set_2 = extract_queries_from_qrels(f\"{Query2_dir}/qrels.tsv\", queries2)\n",
    "\n",
    "# Combine all queries\n",
    "all_queries = {**queries_set_1, **queries_set_2}\n",
    "\n",
    "# Save to file with query text and relevance information\n",
    "with open(\"query_pool.json\", \"w\", encoding=\"utf-8\") as f:\n",
    "        json.dump(all_queries, f)\n",
    "  \n",
    "print(f\"✅ Query pool built with {len(all_queries)} queries.\")\n"
   ]
  },
  {
   "cell_type": "code",
   "execution_count": 3,
   "id": "44237e6d",
   "metadata": {},
   "outputs": [
    {
     "name": "stdout",
     "output_type": "stream",
     "text": [
      "✅ Saved query frequency file to: query_frequencies.json\n"
     ]
    }
   ],
   "source": [
    "import json\n",
    "from collections import defaultdict\n",
    "\n",
    "INPUT_FILE = \"query_pool.json\"\n",
    "OUTPUT_FILE = \"query_frequencies.json\"\n",
    "\n",
    "def build_query_freq_dict():\n",
    "    with open(INPUT_FILE, \"r\", encoding=\"utf-8\") as f:\n",
    "        raw_queries = json.load(f)\n",
    "\n",
    "    freq_dict = defaultdict(int)\n",
    "    for item in raw_queries.values():\n",
    "        query_text = item.get(\"text\", \"\").strip()\n",
    "        if query_text:\n",
    "            freq_dict[query_text] += 1  # All queries occur once here\n",
    "\n",
    "    with open(OUTPUT_FILE, \"w\", encoding=\"utf-8\") as f:\n",
    "        json.dump(freq_dict, f, indent=2, ensure_ascii=False)\n",
    "\n",
    "    print(f\"✅ Saved query frequency file to: {OUTPUT_FILE}\")\n",
    "\n",
    "if __name__ == \"__main__\":\n",
    "    build_query_freq_dict()"
   ]
  },
  {
   "cell_type": "code",
   "execution_count": null,
   "id": "08012d80",
   "metadata": {},
   "outputs": [],
   "source": []
  }
 ],
 "metadata": {
  "kernelspec": {
   "display_name": "venv",
   "language": "python",
   "name": "python3"
  },
  "language_info": {
   "codemirror_mode": {
    "name": "ipython",
    "version": 3
   },
   "file_extension": ".py",
   "mimetype": "text/x-python",
   "name": "python",
   "nbconvert_exporter": "python",
   "pygments_lexer": "ipython3",
   "version": "3.13.0"
  }
 },
 "nbformat": 4,
 "nbformat_minor": 5
}
