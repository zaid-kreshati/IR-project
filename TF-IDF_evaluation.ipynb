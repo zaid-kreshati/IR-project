{
 "cells": [
  {
   "cell_type": "markdown",
   "id": "1e2d5369",
   "metadata": {},
   "source": [
    "## import packages"
   ]
  },
  {
   "cell_type": "code",
   "execution_count": 2,
   "id": "1ada179e",
   "metadata": {},
   "outputs": [],
   "source": [
    "import pandas as pd\n",
    "from tqdm import tqdm\n",
    "from app.services.evaluator import compute_recall,compute_precision,compute_average_precision,compute_precision_at_k,compute_mrr\n",
    "from app.services.tfidf_service import VectorSpaceModel\n",
    "import os\n",
    "\n",
    "\n",
    "dataset_name1='nano-beir/arguana'\n",
    "dataset_name2='beir/webis-touche2020/v2'\n",
    "dataset_name3='beir/quora/test'\n",
    "dataset_name4='antique/test'\n",
    "\n",
    "datasetname=dataset_name4\n",
    "name=datasetname.replace(\"/\", \"-\").replace(\"\\\\\", \"_\").strip()"
   ]
  },
  {
   "cell_type": "markdown",
   "id": "5adc7f7d",
   "metadata": {},
   "source": [
    "## Load queries and qrels files"
   ]
  },
  {
   "cell_type": "code",
   "execution_count": 3,
   "id": "51e746ef",
   "metadata": {},
   "outputs": [],
   "source": [
    "if not datasetname:\n",
    "    raise ValueError(\"datasetname variable is not defined\")\n",
    "\n",
    "qrels_df = pd.read_csv(f\"data/{name}/qrels.tsv\", sep=\"\\t\", names=[\"query_id\", \"doc_id\", \"relevance\"])\n",
    "# print(qrels_df)\n",
    "queries_df = pd.read_csv(f\"data/{name}/queries.tsv\", sep=\"\\t\", names=[\"query_id\", \"text\"])\n"
   ]
  },
  {
   "cell_type": "markdown",
   "id": "25bbdc10",
   "metadata": {},
   "source": [
    "# make instance from VSM"
   ]
  },
  {
   "cell_type": "code",
   "execution_count": 4,
   "id": "dffcbf64",
   "metadata": {},
   "outputs": [
    {
     "name": "stdout",
     "output_type": "stream",
     "text": [
      "🔍 Loading TF-IDF vectorizer, matrix, inverted index...\n"
     ]
    }
   ],
   "source": [
    "vsm=VectorSpaceModel(datasetname)\n",
    "vsm.load()\n"
   ]
  },
  {
   "cell_type": "markdown",
   "id": "dc435b9b",
   "metadata": {},
   "source": [
    "## Evaluation "
   ]
  },
  {
   "cell_type": "code",
   "execution_count": 5,
   "id": "57de8cd1",
   "metadata": {},
   "outputs": [
    {
     "name": "stderr",
     "output_type": "stream",
     "text": [
      "100%|██████████| 200/200 [00:38<00:00,  5.22it/s]"
     ]
    },
    {
     "name": "stdout",
     "output_type": "stream",
     "text": [
      "MAP: 0.1834\n",
      "MRR: 0.6814\n",
      "All Recall values: [0.9444444444444444, 0.8666666666666667, 0.8260869565217391, 0.7804878048780488, 0.9032258064516129, 0.6388888888888888, 0.8787878787878788, 0.8620689655172413, 0.9032258064516129, 0.3333333333333333, 0.7297297297297297, 0.782608695652174, 0.92, 0.9354838709677419, 1.0, 0.7741935483870968, 0.9565217391304348, 0.6136363636363636, 0.5, 0.9666666666666667, 0.525, 0.7333333333333333, 0.8918918918918919, 0.9230769230769231, 0.9, 0.7352941176470589, 0.7647058823529411, 0.5862068965517241, 0.9117647058823529, 0.825, 0.75, 0.8148148148148148, 0.88, 0.717948717948718, 0.9655172413793104, 0.8928571428571429, 0.7142857142857143, 0.8, 0.6571428571428571, 0.9655172413793104, 0.6428571428571429, 0.9, 1.0, 0.8888888888888888, 0.9166666666666666, 0.8529411764705882, 0.8666666666666667, 0.8285714285714286, 0.8461538461538461, 0.9666666666666667, 0.9666666666666667, 0.8064516129032258, 0.5, 0.8048780487804879, 0.8285714285714286, 0.75, 0.625, 0.7857142857142857, 0.8846153846153846, 0.9615384615384616, 0.6666666666666666, 0.9, 0.9583333333333334, 0.8275862068965517, 0.34375, 0.9230769230769231, 0.8709677419354839, 0.8214285714285714, 0.5666666666666667, 0.9090909090909091, 0.9375, 0.9090909090909091, 0.8, 1.0, 0.8928571428571429, 0.8518518518518519, 0.85, 0.9230769230769231, 0.96875, 0.90625, 0.7142857142857143, 0.6470588235294118, 0.7857142857142857, 0.6666666666666666, 0.8780487804878049, 0.8181818181818182, 1.0, 0.8888888888888888, 0.9428571428571428, 0.9666666666666667, 0.5357142857142857, 0.9090909090909091, 0.9375, 0.8666666666666667, 0.8125, 0.8620689655172413, 0.0, 1.0, 0.9166666666666666, 0.8235294117647058, 0.7931034482758621, 0.9629629629629629, 0.84, 0.8695652173913043, 0.7666666666666667, 0.76, 0.640625, 0.8333333333333334, 0.6976744186046512, 0.9565217391304348, 0.7096774193548387, 0.9333333333333333, 0.8378378378378378, 0.6444444444444445, 0.6666666666666666, 0.8064516129032258, 0.75, 0.7941176470588235, 0.72, 0.5609756097560976, 0.8064516129032258, 0.9629629629629629, 0.92, 0.6666666666666666, 0.4772727272727273, 0.7272727272727273, 0.6744186046511628, 0.8235294117647058, 0.5714285714285714, 0.8333333333333334, 0.7413793103448276, 0.8529411764705882, 0.90625, 0.696969696969697, 1.0, 0.7272727272727273, 0.0, 0.6744186046511628, 0.5555555555555556, 0.0, 0.9117647058823529, 0.7631578947368421, 0.8974358974358975, 0.8148148148148148, 0.7941176470588235, 0.8863636363636364, 0.9393939393939394, 0.75, 0.8958333333333334, 0.631578947368421, 0.8333333333333334, 0.7837837837837838, 0.5, 0.9375, 0.6451612903225806, 0.875, 0.96, 0.7333333333333333, 0.5675675675675675, 0.6571428571428571, 0.8809523809523809, 0.8157894736842105, 0.896551724137931, 1.0, 0.9393939393939394, 0.8571428571428571, 0.8695652173913043, 0.7631578947368421, 0.7307692307692307, 0.84375, 0.6444444444444445, 0.8974358974358975, 0.8461538461538461, 0.8275862068965517, 0.8974358974358975, 0.9743589743589743, 0.8787878787878788, 0.9117647058823529, 1.0, 0.6666666666666666, 0.6785714285714286, 1.0, 0.8421052631578947, 0.75, 0.8888888888888888, 0.6060606060606061, 0.8235294117647058, 0.7435897435897436, 0.6428571428571429, 0.9565217391304348, 0.9705882352941176, 0.9, 0.36363636363636365, 0.9583333333333334, 0.7073170731707317, 0.8947368421052632, 0.5441176470588235, 0.918918918918919, 0.825, 0.3333333333333333]\n",
      "All Precision@10 values: [0.7, 0.2, 0.4, 0.3, 0.7, 0.6, 0.3, 0.7, 0.2, 0.0, 0.2, 0.7, 0.4, 0.1, 0.3, 0.1, 0.3, 0.1, 0.1, 0.0, 0.2, 0.4, 0.0, 0.3, 0.1, 0.6, 0.4, 0.5, 0.1, 0.0, 0.2, 1.0, 0.1, 0.2, 0.6, 0.4, 0.2, 0.1, 0.2, 0.5, 0.5, 0.5, 0.6, 0.3, 0.9, 0.3, 1.0, 0.1, 0.2, 0.4, 0.0, 0.3, 0.0, 0.1, 0.3, 0.5, 0.5, 0.4, 0.3, 0.2, 0.6, 0.4, 0.2, 0.1, 0.4, 0.5, 0.2, 0.5, 0.0, 0.4, 0.9, 0.0, 0.1, 0.6, 0.6, 0.1, 0.1, 0.3, 0.5, 0.3, 0.8, 0.0, 0.2, 0.0, 0.5, 0.6, 0.2, 0.1, 0.4, 0.0, 0.5, 0.1, 0.3, 0.7, 0.0, 0.1, 0.0, 0.6, 0.2, 0.5, 0.0, 0.5, 0.1, 0.4, 0.8, 0.4, 0.0, 0.0, 0.3, 0.5, 0.3, 0.5, 0.2, 0.1, 0.2, 0.4, 0.2, 0.3, 0.3, 0.3, 0.2, 0.8, 0.3, 0.9, 0.2, 0.0, 0.2, 0.3, 0.0, 0.7, 0.0, 0.2, 0.5, 0.6, 0.0, 0.0, 0.0, 0.1, 0.2, 0.0, 0.3, 0.6, 0.4, 0.2, 0.0, 0.6, 0.1, 0.1, 0.8, 0.4, 0.5, 0.2, 0.5, 0.0, 0.4, 0.8, 0.4, 0.6, 0.1, 0.9, 0.3, 0.8, 0.0, 0.6, 0.0, 0.5, 0.7, 0.3, 0.8, 0.2, 0.3, 0.1, 0.0, 0.5, 0.0, 0.2, 0.6, 0.5, 0.7, 0.6, 0.3, 0.6, 0.4, 0.4, 0.5, 0.2, 0.3, 0.1, 0.1, 0.1, 0.4, 0.8, 0.4, 0.9, 0.4, 0.4, 0.8, 0.0, 0.6, 0.0]\n"
     ]
    },
    {
     "name": "stderr",
     "output_type": "stream",
     "text": [
      "\n"
     ]
    }
   ],
   "source": [
    "\n",
    "\n",
    "\n",
    "all_avg_precisions = []\n",
    "all_prec_at_10 = []\n",
    "all_mrr_ranks = []\n",
    "all_recall = []\n",
    "\n",
    "for _, row in tqdm(queries_df.iterrows(), total=len(queries_df)):\n",
    "    query_id = row[\"query_id\"]\n",
    "    query_text = row[\"text\"]\n",
    "\n",
    "    # Use your VSM search function\n",
    "    search_results = vsm.search_tfidf(query_text,top_k=100000)\n",
    "     # Access the list of result dicts\n",
    "    result_items = search_results[\"results\"]\n",
    "    retrieved_docs = [str(doc[\"doc_id\"]) for doc in result_items]\n",
    "\n",
    "    # Step 2: Convert both retrieved and relevant doc_ids to strings\n",
    "    relevant_docs = set(qrels_df[qrels_df[\"query_id\"] == query_id][\"doc_id\"].astype(str))\n",
    "\n",
    "\n",
    "    # retrieved_docs = [doc[\"doc_id\"] for doc in search_results]\n",
    "\n",
    "    # Compute metrics\n",
    "    avg_precision = compute_average_precision(relevant_docs, retrieved_docs)\n",
    "    prec_at_10 = compute_precision_at_k(relevant_docs, retrieved_docs, k=10)\n",
    "    recall=compute_recall(relevant_docs, retrieved_docs)\n",
    "\n",
    "    # Compute rank of first relevant doc for MRR\n",
    "    rank = 0\n",
    "    for i, doc_id in enumerate(retrieved_docs):\n",
    "        if doc_id in relevant_docs:\n",
    "            rank = i + 1\n",
    "            break\n",
    "\n",
    "    all_avg_precisions.append(avg_precision)\n",
    "    all_prec_at_10.append(prec_at_10)\n",
    "    all_mrr_ranks.append(rank)\n",
    "    all_recall.append(recall)\n",
    "\n",
    "# Final scores\n",
    "map_score = sum(all_avg_precisions) / len(all_avg_precisions)\n",
    "mean_prec_at_10 = sum(all_prec_at_10) / len(all_prec_at_10)\n",
    "mrr_score = compute_mrr(all_mrr_ranks)\n",
    "\n",
    "print(f\"MAP: {map_score:.4f}\")\n",
    "print(f\"MRR: {mrr_score:.4f}\")\n",
    "print(f\"All Recall values: {all_recall}\")\n",
    "print(f\"All Precision@10 values: {all_prec_at_10}\")\n"
   ]
  },
  {
   "cell_type": "markdown",
   "id": "c5990ae6",
   "metadata": {},
   "source": [
    "## save result"
   ]
  },
  {
   "cell_type": "code",
   "execution_count": 10,
   "id": "1b03a214",
   "metadata": {},
   "outputs": [],
   "source": [
    "summary = {\n",
    "    \"Mean Average Precision\": map_score,\n",
    "    \"Mean Reciprocal Rank\": mrr_score\n",
    "}\n",
    "import json\n",
    "\n",
    "output_dir = os.path.join(\"results\", \"TF-IDF\", name)\n",
    "output_path = os.path.join(output_dir,\"evaluation_summary.json\")\n",
    "\n",
    "with open(output_path, \"w\") as f:\n",
    "    json.dump(summary, f)"
   ]
  }
 ],
 "metadata": {
  "kernelspec": {
   "display_name": "venv",
   "language": "python",
   "name": "python3"
  },
  "language_info": {
   "codemirror_mode": {
    "name": "ipython",
    "version": 3
   },
   "file_extension": ".py",
   "mimetype": "text/x-python",
   "name": "python",
   "nbconvert_exporter": "python",
   "pygments_lexer": "ipython3",
   "version": "3.13.0"
  }
 },
 "nbformat": 4,
 "nbformat_minor": 5
}
