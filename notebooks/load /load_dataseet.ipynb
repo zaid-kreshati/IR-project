{
 "cells": [
  {
   "cell_type": "markdown",
   "id": "66b633ca",
   "metadata": {},
   "source": [
    "## Import Required Packages and Dependencies "
   ]
  },
  {
   "cell_type": "code",
   "execution_count": 1,
   "id": "95d9642a",
   "metadata": {},
   "outputs": [],
   "source": [
    "from ir_datasets import load\n",
    "from pymongo import MongoClient\n",
    "from pymongo.errors import BulkWriteError\n"
   ]
  },
  {
   "cell_type": "markdown",
   "id": "27b43194",
   "metadata": {},
   "source": [
    "## data set name and variables"
   ]
  },
  {
   "cell_type": "code",
   "execution_count": 2,
   "id": "3cded673",
   "metadata": {},
   "outputs": [],
   "source": [
    "dataset_name1='nano-beir/arguana'\n",
    "dataset_name2='beir/webis-touche2020/v2'\n",
    "dataset_name3='beir/quora/test'\n",
    "dataset_name4='antique/test'\n",
    "dataset_name=dataset_name3\n",
    "batch_size=1000\n",
    "name=dataset_name.replace(\"/\", \"-\").replace(\"\\\\\", \"_\").strip()"
   ]
  },
  {
   "cell_type": "markdown",
   "id": "057c4cf2",
   "metadata": {},
   "source": [
    "## connecting to mongodb"
   ]
  },
  {
   "cell_type": "code",
   "execution_count": 3,
   "id": "e37a3063",
   "metadata": {},
   "outputs": [],
   "source": [
    "\n",
    "client = MongoClient(\"mongodb://localhost:27017/\")\n",
    "db = client[\"ir_project\"]\n",
    "collection = db[name]\n"
   ]
  },
  {
   "cell_type": "markdown",
   "id": "18075640",
   "metadata": {},
   "source": [
    "## make index "
   ]
  },
  {
   "cell_type": "code",
   "execution_count": 4,
   "id": "f25c9594",
   "metadata": {},
   "outputs": [
    {
     "data": {
      "text/plain": [
       "'doc_id_1'"
      ]
     },
     "execution_count": 4,
     "metadata": {},
     "output_type": "execute_result"
    }
   ],
   "source": [
    "\n",
    "collection.create_index(\"doc_id\", unique=True)"
   ]
  },
  {
   "cell_type": "markdown",
   "id": "0a2e2060",
   "metadata": {},
   "source": [
    "## loading the dataset "
   ]
  },
  {
   "cell_type": "code",
   "execution_count": 5,
   "id": "aa8051e0",
   "metadata": {},
   "outputs": [
    {
     "name": "stdout",
     "output_type": "stream",
     "text": [
      "🚀 Starting to load dataset: beir-quora-test\n",
      "✅ Inserted 1000 documents so far...\n",
      "⚠️ Final batch: Skipped 1000 duplicates, inserted 521931\n",
      "🎉 Done! Inserted 522931 documents into 'beir/quora/test' collection.\n"
     ]
    }
   ],
   "source": [
    "\n",
    "dataset = load(dataset_name)\n",
    "count_inserted = 0\n",
    "batch = []\n",
    "\n",
    "print(f\"🚀 Starting to load dataset: {name}\")\n",
    "\n",
    "for i, doc in enumerate(dataset.docs_iter()):\n",
    "    doc_id = doc.doc_id\n",
    "    text = doc.text\n",
    "\n",
    "    batch.append({\n",
    "        \"doc_id\": doc_id,\n",
    "        \"body\": text\n",
    "    })\n",
    "\n",
    "    if len(batch) == batch_size:\n",
    "        try:\n",
    "            result = collection.insert_many(batch, ordered=False)\n",
    "            count_inserted += len(result.inserted_ids)\n",
    "            print(f\"✅ Inserted {count_inserted} documents so far...\")\n",
    "        except BulkWriteError as bwe:\n",
    "            # Skip duplicates gracefully\n",
    "            num_errors = len(bwe.details.get(\"writeErrors\", []))\n",
    "            count_inserted += batch_size - num_errors\n",
    "            print(f\"⚠️ Skipped {num_errors} duplicates, inserted {batch_size - num_errors}\")\n",
    "            batch = []\n",
    "\n",
    "# Final batch\n",
    "if batch:\n",
    "    try:\n",
    "        result = collection.insert_many(batch, ordered=False)\n",
    "        count_inserted += len(result.inserted_ids)\n",
    "        print(f\"✅ Final batch inserted. Total: {count_inserted}\")\n",
    "    except BulkWriteError as bwe:\n",
    "        num_errors = len(bwe.details.get(\"writeErrors\", []))\n",
    "        count_inserted += len(batch) - num_errors\n",
    "        print(f\"⚠️ Final batch: Skipped {num_errors} duplicates, inserted {len(batch) - num_errors}\")\n",
    "\n",
    "print(f\"🎉 Done! Inserted {count_inserted} documents into '{dataset_name}' collection.\")\n"
   ]
  },
  {
   "cell_type": "code",
   "execution_count": null,
   "id": "363c5dd4",
   "metadata": {},
   "outputs": [],
   "source": []
  }
 ],
 "metadata": {
  "kernelspec": {
   "display_name": "venv",
   "language": "python",
   "name": "python3"
  },
  "language_info": {
   "codemirror_mode": {
    "name": "ipython",
    "version": 3
   },
   "file_extension": ".py",
   "mimetype": "text/x-python",
   "name": "python",
   "nbconvert_exporter": "python",
   "pygments_lexer": "ipython3",
   "version": "3.13.0"
  }
 },
 "nbformat": 4,
 "nbformat_minor": 5
}
