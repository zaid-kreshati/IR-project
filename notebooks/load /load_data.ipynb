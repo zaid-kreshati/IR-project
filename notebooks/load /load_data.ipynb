{
 "cells": [
  {
   "cell_type": "markdown",
   "id": "d61a31fa",
   "metadata": {},
   "source": [
    "## Import Required Packages and Dependencies\n"
   ]
  },
  {
   "cell_type": "code",
   "execution_count": null,
   "id": "fceb50fe",
   "metadata": {},
   "outputs": [],
   "source": [
    "import ir_datasets\n",
    "import os\n",
    "import pathlib\n",
    "from re import S\n"
   ]
  },
  {
   "cell_type": "markdown",
   "id": "f903eb48",
   "metadata": {},
   "source": [
    "## define dataset names"
   ]
  },
  {
   "cell_type": "code",
   "execution_count": null,
   "id": "63a72ec7",
   "metadata": {},
   "outputs": [],
   "source": [
    "dataset_name1='nano-beir/arguana'\n",
    "dataset_name2='beir/webis-touche2020/v2'\n",
    "dataset_name3='beir/quora/test'\n",
    "dataset_name4='antique/test'\n",
    "\n",
    "datasetname=dataset_name4\n",
    "name=datasetname.replace(\"/\", \"-\").replace(\"\\\\\", \"_\").strip()\n"
   ]
  },
  {
   "cell_type": "markdown",
   "id": "b47b99ff",
   "metadata": {},
   "source": [
    "## load the data set"
   ]
  },
  {
   "cell_type": "code",
   "execution_count": null,
   "id": "0bea22e9",
   "metadata": {},
   "outputs": [],
   "source": [
    "\n",
    "dataset = ir_datasets.load(datasetname)\n",
    "\n",
    "# for query in dataset.queries_iter():\n",
    "#     print(query.query_id)   # ✅ correct attribute\n"
   ]
  },
  {
   "cell_type": "markdown",
   "id": "a54b7423",
   "metadata": {},
   "source": [
    "## save the queries and qrels"
   ]
  },
  {
   "cell_type": "code",
   "execution_count": null,
   "id": "b4badab5",
   "metadata": {},
   "outputs": [],
   "source": [
    "cwd = pathlib.Path().cwd().parent.parent  # go one level up\n",
    "queries_path = cwd / 'data'/name\n",
    "os.makedirs(queries_path, exist_ok=True)\n",
    "with open(queries_path / \"queries.tsv\", \"w\", encoding=\"utf-8\") as f:\n",
    "    for query in dataset.queries_iter():\n",
    "        f.write(f\"{query.query_id}\\t{query.text}\\n\")\n",
    "\n",
    "with open(queries_path / \"qrels.tsv\", \"w\", encoding=\"utf-8\") as f:\n",
    "    for query in dataset.qrels_iter():\n",
    "        f.write(f\"{query.query_id}\\t{query.doc_id}\\t{query.relevance}\\n\")\n"
   ]
  }
 ],
 "metadata": {
  "kernelspec": {
   "display_name": "venv",
   "language": "python",
   "name": "python3"
  },
  "language_info": {
   "codemirror_mode": {
    "name": "ipython",
    "version": 3
   },
   "file_extension": ".py",
   "mimetype": "text/x-python",
   "name": "python",
   "nbconvert_exporter": "python",
   "pygments_lexer": "ipython3",
   "version": "3.13.0"
  }
 },
 "nbformat": 4,
 "nbformat_minor": 5
}
