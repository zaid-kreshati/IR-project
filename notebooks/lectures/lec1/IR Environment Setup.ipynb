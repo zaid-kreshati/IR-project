{
 "cells": [
  {
   "cell_type": "markdown",
   "id": "b6b28b37",
   "metadata": {
    "id": "b6b28b37"
   },
   "source": [
    "## NLTK Installation"
   ]
  },
  {
   "cell_type": "code",
   "execution_count": 10,
   "id": "748f5cba",
   "metadata": {
    "colab": {
     "base_uri": "https://localhost:8080/"
    },
    "executionInfo": {
     "elapsed": 12833,
     "status": "ok",
     "timestamp": 1750404950808,
     "user": {
      "displayName": "Leen Alkour",
      "userId": "15725923226711807455"
     },
     "user_tz": -180
    },
    "id": "748f5cba",
    "outputId": "889fb686-c926-491b-8b40-3000341936a6"
   },
   "outputs": [
    {
     "name": "stdout",
     "output_type": "stream",
     "text": [
      "Requirement already satisfied: nltk in /Users/STADIA_AD/Desktop/IR-project/venv/lib/python3.8/site-packages (3.9.1)\n",
      "Requirement already satisfied: click in /Users/STADIA_AD/Desktop/IR-project/venv/lib/python3.8/site-packages (from nltk) (8.1.8)\n",
      "Requirement already satisfied: joblib in /Users/STADIA_AD/Desktop/IR-project/venv/lib/python3.8/site-packages (from nltk) (1.4.2)\n",
      "Requirement already satisfied: regex>=2021.8.3 in /Users/STADIA_AD/Desktop/IR-project/venv/lib/python3.8/site-packages (from nltk) (2024.11.6)\n",
      "Requirement already satisfied: tqdm in /Users/STADIA_AD/Desktop/IR-project/venv/lib/python3.8/site-packages (from nltk) (4.67.1)\n",
      "Note: you may need to restart the kernel to use updated packages.\n"
     ]
    }
   ],
   "source": [
    "%pip install nltk\n"
   ]
  },
  {
   "cell_type": "markdown",
   "id": "3e6bc018",
   "metadata": {
    "id": "3e6bc018"
   },
   "source": [
    "## Libraries Installation"
   ]
  },
  {
   "cell_type": "code",
   "execution_count": 2,
   "id": "c4fe9f56",
   "metadata": {
    "colab": {
     "base_uri": "https://localhost:8080/"
    },
    "executionInfo": {
     "elapsed": 43588,
     "status": "error",
     "timestamp": 1750407002710,
     "user": {
      "displayName": "Leen Alkour",
      "userId": "15725923226711807455"
     },
     "user_tz": -180
    },
    "id": "c4fe9f56",
    "outputId": "78f1a660-f1c5-4f20-f0c9-e5b15ff5029b"
   },
   "outputs": [],
   "source": [
    "import nltk"
   ]
  },
  {
   "cell_type": "markdown",
   "id": "ad093892",
   "metadata": {
    "id": "ad093892"
   },
   "source": [
    "## Importing the libraries"
   ]
  },
  {
   "cell_type": "code",
   "execution_count": 3,
   "id": "e418c194",
   "metadata": {
    "executionInfo": {
     "elapsed": 2243,
     "status": "ok",
     "timestamp": 1750410636236,
     "user": {
      "displayName": "Leen Alkour",
      "userId": "15725923226711807455"
     },
     "user_tz": -180
    },
    "id": "e418c194"
   },
   "outputs": [],
   "source": [
    "from nltk.tokenize import sent_tokenize, word_tokenize"
   ]
  },
  {
   "cell_type": "markdown",
   "id": "fa667d1e",
   "metadata": {
    "id": "fa667d1e"
   },
   "source": [
    "## Testing NLTK"
   ]
  },
  {
   "cell_type": "code",
   "execution_count": 4,
   "id": "518df2f2",
   "metadata": {
    "executionInfo": {
     "elapsed": 2289,
     "status": "ok",
     "timestamp": 1750410616848,
     "user": {
      "displayName": "Leen Alkour",
      "userId": "15725923226711807455"
     },
     "user_tz": -180
    },
    "id": "518df2f2"
   },
   "outputs": [],
   "source": [
    "text = 'Hello, This is the first IR Lecture, in the software engineering department. Any Questions ?'"
   ]
  },
  {
   "cell_type": "code",
   "execution_count": 5,
   "id": "37c222cd",
   "metadata": {
    "colab": {
     "base_uri": "https://localhost:8080/",
     "height": 651
    },
    "executionInfo": {
     "elapsed": 5705,
     "status": "error",
     "timestamp": 1750410650073,
     "user": {
      "displayName": "Leen Alkour",
      "userId": "15725923226711807455"
     },
     "user_tz": -180
    },
    "id": "37c222cd",
    "outputId": "332d45cf-beb4-43a1-c3e0-8e83fe501b75"
   },
   "outputs": [
    {
     "name": "stdout",
     "output_type": "stream",
     "text": [
      "['Hello, This is the first IR Lecture, in the software engineering department.', 'Any Questions ?']\n"
     ]
    }
   ],
   "source": [
    "print(sent_tokenize(text))"
   ]
  },
  {
   "cell_type": "code",
   "execution_count": 6,
   "id": "0fb5a5fe",
   "metadata": {
    "id": "0fb5a5fe",
    "outputId": "f6434459-a675-4e15-c602-74de750d6aa1"
   },
   "outputs": [
    {
     "name": "stdout",
     "output_type": "stream",
     "text": [
      "['Hello', ',', 'This', 'is', 'the', 'first', 'IR', 'Lecture', ',', 'in', 'the', 'software', 'engineering', 'department', '.', 'Any', 'Questions', '?']\n"
     ]
    }
   ],
   "source": [
    "print(word_tokenize(text))"
   ]
  },
  {
   "cell_type": "markdown",
   "id": "ae375500",
   "metadata": {
    "id": "ae375500"
   },
   "source": [
    "## Stopwords"
   ]
  },
  {
   "cell_type": "code",
   "execution_count": 7,
   "id": "18ca8b4e",
   "metadata": {
    "id": "18ca8b4e"
   },
   "outputs": [],
   "source": [
    "from nltk.corpus import stopwords"
   ]
  },
  {
   "cell_type": "code",
   "execution_count": 8,
   "id": "de21b554",
   "metadata": {
    "id": "de21b554",
    "outputId": "25b4b7d5-f16d-41dc-91c1-fd6f241acc1d"
   },
   "outputs": [
    {
     "data": {
      "text/plain": [
       "['a',\n",
       " 'about',\n",
       " 'above',\n",
       " 'after',\n",
       " 'again',\n",
       " 'against',\n",
       " 'ain',\n",
       " 'all',\n",
       " 'am',\n",
       " 'an',\n",
       " 'and',\n",
       " 'any',\n",
       " 'are',\n",
       " 'aren',\n",
       " \"aren't\",\n",
       " 'as',\n",
       " 'at',\n",
       " 'be',\n",
       " 'because',\n",
       " 'been',\n",
       " 'before',\n",
       " 'being',\n",
       " 'below',\n",
       " 'between',\n",
       " 'both',\n",
       " 'but',\n",
       " 'by',\n",
       " 'can',\n",
       " 'couldn',\n",
       " \"couldn't\",\n",
       " 'd',\n",
       " 'did',\n",
       " 'didn',\n",
       " \"didn't\",\n",
       " 'do',\n",
       " 'does',\n",
       " 'doesn',\n",
       " \"doesn't\",\n",
       " 'doing',\n",
       " 'don',\n",
       " \"don't\",\n",
       " 'down',\n",
       " 'during',\n",
       " 'each',\n",
       " 'few',\n",
       " 'for',\n",
       " 'from',\n",
       " 'further',\n",
       " 'had',\n",
       " 'hadn',\n",
       " \"hadn't\",\n",
       " 'has',\n",
       " 'hasn',\n",
       " \"hasn't\",\n",
       " 'have',\n",
       " 'haven',\n",
       " \"haven't\",\n",
       " 'having',\n",
       " 'he',\n",
       " \"he'd\",\n",
       " \"he'll\",\n",
       " 'her',\n",
       " 'here',\n",
       " 'hers',\n",
       " 'herself',\n",
       " \"he's\",\n",
       " 'him',\n",
       " 'himself',\n",
       " 'his',\n",
       " 'how',\n",
       " 'i',\n",
       " \"i'd\",\n",
       " 'if',\n",
       " \"i'll\",\n",
       " \"i'm\",\n",
       " 'in',\n",
       " 'into',\n",
       " 'is',\n",
       " 'isn',\n",
       " \"isn't\",\n",
       " 'it',\n",
       " \"it'd\",\n",
       " \"it'll\",\n",
       " \"it's\",\n",
       " 'its',\n",
       " 'itself',\n",
       " \"i've\",\n",
       " 'just',\n",
       " 'll',\n",
       " 'm',\n",
       " 'ma',\n",
       " 'me',\n",
       " 'mightn',\n",
       " \"mightn't\",\n",
       " 'more',\n",
       " 'most',\n",
       " 'mustn',\n",
       " \"mustn't\",\n",
       " 'my',\n",
       " 'myself',\n",
       " 'needn',\n",
       " \"needn't\",\n",
       " 'no',\n",
       " 'nor',\n",
       " 'not',\n",
       " 'now',\n",
       " 'o',\n",
       " 'of',\n",
       " 'off',\n",
       " 'on',\n",
       " 'once',\n",
       " 'only',\n",
       " 'or',\n",
       " 'other',\n",
       " 'our',\n",
       " 'ours',\n",
       " 'ourselves',\n",
       " 'out',\n",
       " 'over',\n",
       " 'own',\n",
       " 're',\n",
       " 's',\n",
       " 'same',\n",
       " 'shan',\n",
       " \"shan't\",\n",
       " 'she',\n",
       " \"she'd\",\n",
       " \"she'll\",\n",
       " \"she's\",\n",
       " 'should',\n",
       " 'shouldn',\n",
       " \"shouldn't\",\n",
       " \"should've\",\n",
       " 'so',\n",
       " 'some',\n",
       " 'such',\n",
       " 't',\n",
       " 'than',\n",
       " 'that',\n",
       " \"that'll\",\n",
       " 'the',\n",
       " 'their',\n",
       " 'theirs',\n",
       " 'them',\n",
       " 'themselves',\n",
       " 'then',\n",
       " 'there',\n",
       " 'these',\n",
       " 'they',\n",
       " \"they'd\",\n",
       " \"they'll\",\n",
       " \"they're\",\n",
       " \"they've\",\n",
       " 'this',\n",
       " 'those',\n",
       " 'through',\n",
       " 'to',\n",
       " 'too',\n",
       " 'under',\n",
       " 'until',\n",
       " 'up',\n",
       " 've',\n",
       " 'very',\n",
       " 'was',\n",
       " 'wasn',\n",
       " \"wasn't\",\n",
       " 'we',\n",
       " \"we'd\",\n",
       " \"we'll\",\n",
       " \"we're\",\n",
       " 'were',\n",
       " 'weren',\n",
       " \"weren't\",\n",
       " \"we've\",\n",
       " 'what',\n",
       " 'when',\n",
       " 'where',\n",
       " 'which',\n",
       " 'while',\n",
       " 'who',\n",
       " 'whom',\n",
       " 'why',\n",
       " 'will',\n",
       " 'with',\n",
       " 'won',\n",
       " \"won't\",\n",
       " 'wouldn',\n",
       " \"wouldn't\",\n",
       " 'y',\n",
       " 'you',\n",
       " \"you'd\",\n",
       " \"you'll\",\n",
       " 'your',\n",
       " \"you're\",\n",
       " 'yours',\n",
       " 'yourself',\n",
       " 'yourselves',\n",
       " \"you've\"]"
      ]
     },
     "execution_count": 8,
     "metadata": {},
     "output_type": "execute_result"
    }
   ],
   "source": [
    "stopwords.words('English')"
   ]
  },
  {
   "cell_type": "markdown",
   "id": "990d7f60",
   "metadata": {
    "id": "990d7f60"
   },
   "source": [
    "## Remove stopwords from the text"
   ]
  },
  {
   "cell_type": "code",
   "execution_count": 9,
   "id": "d38dd288",
   "metadata": {
    "id": "d38dd288",
    "outputId": "bdd292c2-7851-44f8-dc31-e6ee7724f1ce"
   },
   "outputs": [
    {
     "data": {
      "text/plain": [
       "['Hello',\n",
       " ',',\n",
       " 'This',\n",
       " 'first',\n",
       " 'IR',\n",
       " 'Lecture',\n",
       " ',',\n",
       " 'software',\n",
       " 'engineering',\n",
       " 'department',\n",
       " '.',\n",
       " 'Any',\n",
       " 'Questions',\n",
       " '?']"
      ]
     },
     "execution_count": 9,
     "metadata": {},
     "output_type": "execute_result"
    }
   ],
   "source": [
    "filtered_text = []\n",
    "\n",
    "for word in word_tokenize(text):\n",
    "    if word not in stopwords.words('English'):\n",
    "        filtered_text.append(word)\n",
    "\n",
    "filtered_text"
   ]
  }
 ],
 "metadata": {
  "colab": {
   "provenance": []
  },
  "kernelspec": {
   "display_name": "venv",
   "language": "python",
   "name": "python3"
  },
  "language_info": {
   "codemirror_mode": {
    "name": "ipython",
    "version": 3
   },
   "file_extension": ".py",
   "mimetype": "text/x-python",
   "name": "python",
   "nbconvert_exporter": "python",
   "pygments_lexer": "ipython3",
   "version": "3.8.1"
  }
 },
 "nbformat": 4,
 "nbformat_minor": 5
}
