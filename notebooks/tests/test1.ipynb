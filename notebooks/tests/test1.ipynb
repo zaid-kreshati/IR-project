{preprocess_service
 "cells": [
  {
   "cell_type": "code",
   "execution_count": null,
   "id": "ecafe5b6",
   "metadata": {},
   "outputs": [],
   "source": [
    "from pymongo import MongoClient\n",
    "\n",
    "# Connect to MongoDB running locally\n",
    "client = MongoClient(\"mongodb://localhost:27017/\")\n",
    "db = client[\"ir_project\"]\n",
    "\n",
    "# Test: list databases (should be empty now)\n",
    "print(client.list_database_names())\n"
   ]
  },
  {
   "cell_type": "code",
   "execution_count": null,
   "id": "8c034dc2",
   "metadata": {},
   "outputs": [],
   "source": [
    "from pymongo import MongoClient\n",
    "\n",
    "client = MongoClient(\"mongodb://localhost:27017/\")\n",
    "db = client[\"ir_project\"]\n",
    "collection = db[\"documents\"]\n",
    "\n",
    "print(collection.count_documents({}))  # عدد المستندات\n",
    "print(collection.find_one())           # أول مستند\n",
    "\n"
   ]
  },
  {
   "cell_type": "code",
   "execution_count": null,
   "id": "99f8a05b",
   "metadata": {},
   "outputs": [],
   "source": [
    "from joblib import load\n",
    "vectorizer = load(\"models/tfidf_vectorizer.joblib\")\n",
    "matrix = load(\"models/tfidf_matrix.joblib\")\n",
    "\n",
    "vectorizer.get_feature_names_out()[:10]\n"
   ]
  },
  {
   "cell_type": "code",
   "execution_count": null,
   "id": "ae207082",
   "metadata": {},
   "outputs": [],
   "source": [
    "import os\n",
    "\n",
    "path = \"models/tfidf_vectorizer.joblib\"\n",
    "print(\"📄 File exists:\", os.path.exists(path))\n",
    "print(\"📁 Absolute path:\", os.path.abspath(path))\n"
   ]
  },
  {
   "cell_type": "code",
   "execution_count": null,
   "id": "5f33dac0",
   "metadata": {},
   "outputs": [],
   "source": [
    "from joblib import load\n",
    "import os\n",
    "\n",
    "project_root = os.path.abspath(os.path.join(os.getcwd(), \"../../\"))  # go up 2 levels\n",
    "vectorizer_path = os.path.join(project_root, \"models/tfidf_vectorizer.joblib\")\n",
    "matrix_path = os.path.join(project_root, \"models/tfidf_matrix.joblib\")\n",
    "\n",
    "vectorizer = load(vectorizer_path)\n",
    "matrix = load(matrix_path)\n",
    "\n",
    "print(\"✅ Loaded vectorizer and matrix successfully.\")\n"
   ]
  },
  {
   "cell_type": "code",
   "execution_count": null,
   "id": "935700fb",
   "metadata": {},
   "outputs": [],
   "source": [
    "import sys\n",
    "import os\n",
    "\n",
    "# Go up from `notebooks/tests` to project root\n",
    "project_root = os.path.abspath(os.path.join(os.getcwd(), \"../../\"))\n",
    "sys.path.append(project_root)\n",
    "\n"
   ]
  },
  {
   "cell_type": "code",
   "execution_count": null,
   "id": "f9e1e9ad",
   "metadata": {},
   "outputs": [],
   "source": [
    "from joblib import load\n",
    "\n",
    "vectorizer = load(os.path.join(project_root, \"models/tfidf_vectorizer.joblib\"))\n",
    "matrix = load(os.path.join(project_root, \"models/tfidf_matrix.joblib\"))\n",
    "print(\"✅ Loaded. Matrix shape:\", matrix.shape)\n"
   ]
  },
  {
   "cell_type": "code",
   "execution_count": null,
   "id": "0231de54",
   "metadata": {},
   "outputs": [],
   "source": [
    "name =\"a/b/2/x/c/\"\n",
    "name=name.replace(\"/\", \"_\").replace(\"\\\\\", \"_\").strip()\n",
    "print(name)\n"
   ]
  },
  {
   "cell_type": "code",
   "execution_count": null,
   "id": "ca2d4fad",
   "metadata": {},
   "outputs": [],
   "source": [
    "from ir_datasets import load\n",
    "ds = load(\"beir/webis-touche2020\")\n",
    "print(ds.docs_count())"
   ]
  },
  {
   "cell_type": "code",
   "execution_count": null,
   "id": "4c3ffab1",
   "metadata": {},
   "outputs": [],
   "source": [
    "# import required module\n",
    "from sklearn.feature_extraction.text import TfidfVectorizer\n",
    "\n",
    "# assign documents\n",
    "d0 = 'Geeks for geeks'\n",
    "d1 = 'Geeks'\n",
    "d2 = 'r2j'\n",
    "\n",
    "# merge documents into a single corpus\n",
    "string = [d0, d1, d2]\n",
    "\n",
    "# create object\n",
    "tfidf = TfidfVectorizer()\n",
    "\n",
    "# get tf-df values\n",
    "result = tfidf.fit_transform(string)\n",
    "\n",
    "# get idf values\n",
    "print('\\nidf values:')\n",
    "for ele1, ele2 in zip(tfidf.get_feature_names(), tfidf.idf_):\n",
    "    print(ele1, ':', ele2)\n",
    "\n",
    "# get indexing\n",
    "print('\\nWord indexes:')\n",
    "print(tfidf.vocabulary_)\n",
    "\n",
    "# display tf-idf values\n",
    "print('\\ntf-idf value:')\n",
    "print(result)\n",
    "\n",
    "# in matrix form\n",
    "print('\\ntf-idf values in matrix form:')\n",
    "print(result.toarray())"
   ]
  },
  {
   "cell_type": "code",
   "execution_count": null,
   "id": "3d1a34f1",
   "metadata": {},
   "outputs": [],
   "source": [
    "\n",
    "# import required module\n",
    "from sklearn.feature_extraction.text import TfidfVectorizer\n",
    "\n",
    "# assign documents\n",
    "d0 = 'geek1'\n",
    "d1 = 'geek2'\n",
    "d2 = 'geek3'\n",
    "d3 = 'geek4'\n",
    "\n",
    "# merge documents into a single corpus\n",
    "string = [d0, d1, d2, d3]\n",
    "\n",
    "# create object\n",
    "tfidf = TfidfVectorizer()\n",
    "\n",
    "# get tf-df values\n",
    "result = tfidf.fit_transform(string)\n",
    "\n",
    "# get indexing\n",
    "print('\\nWord indexes:')\n",
    "print(tfidf.vocabulary_)\n",
    "\n",
    "# display tf-idf values\n",
    "print('\\ntf-idf values:')\n",
    "print(result)"
   ]
  },
  {
   "cell_type": "code",
   "execution_count": null,
   "id": "a7a3abab",
   "metadata": {},
   "outputs": [],
   "source": [
    "# import required module\n",
    "from sklearn.feature_extraction.text import TfidfVectorizer\n",
    "\n",
    "# assign documents\n",
    "d0 = 'Geeks for geeks!'\n",
    "d1 = 'Geeks for geeks!'\n",
    "\n",
    "\n",
    "# merge documents into a single corpus\n",
    "string = [d0, d1]\n",
    "\n",
    "# create object\n",
    "tfidf = TfidfVectorizer()\n",
    "\n",
    "# get tf-df values\n",
    "result = tfidf.fit_transform(string)\n",
    "\n",
    "# get indexing\n",
    "print('\\nWord indexes:')\n",
    "print(tfidf.vocabulary_)\n",
    "\n",
    "# display tf-idf values\n",
    "print('\\ntf-idf values:')\n",
    "print(result)"
   ]
  },
  {
   "cell_type": "code",
   "execution_count": null,
   "id": "ff22cb7e",
   "metadata": {},
   "outputs": [],
   "source": [
    "from app.services.preprocess import preprocess_text\n",
    "\n",
    "print(preprocess_text(\"Search at the corner in the morning.\"))\n"
   ]
  },
  {
   "cell_type": "code",
   "execution_count": null,
   "id": "94d909c4",
   "metadata": {},
   "outputs": [],
   "source": [
    "from pymongo import MongoClient\n",
    "client = MongoClient(\"mongodb://localhost:27017/\")\n",
    "collection = client[\"ir_project\"][\"nano-beir-arguana\"]\n",
    "sample = collection.find_one()\n",
    "print(sample)\n"
   ]
  },
  {
   "cell_type": "code",
   "execution_count": null,
   "id": "62990983",
   "metadata": {},
   "outputs": [],
   "source": [
    "import annoy\n",
    "print(annoy.__version__)\n"
   ]
  },
  {
   "cell_type": "code",
   "execution_count": null,
   "id": "a7a7c9f6",
   "metadata": {},
   "outputs": [],
   "source": []
  },
  {
   "cell_type": "code",
   "execution_count": null,
   "id": "8d3188d7",
   "metadata": {},
   "outputs": [],
   "source": [
    "import tailwindcss\n"
   ]
  },
  {
   "cell_type": "code",
   "execution_count": null,
   "id": "1e68d9c7",
   "metadata": {},
   "outputs": [],
   "source": []
  }
 ],
 "metadata": {
  "kernelspec": {
   "display_name": "venv",
   "language": "python",
   "name": "python3"
  },
  "language_info": {
   "codemirror_mode": {
    "name": "ipython",
    "version": 3
   },
   "file_extension": ".py",
   "mimetype": "text/x-python",
   "name": "python",
   "nbconvert_exporter": "python",
   "pygments_lexer": "ipython3",
   "version": "3.13.0"
  }
 },
 "nbformat": 4,
 "nbformat_minor": 5
}
