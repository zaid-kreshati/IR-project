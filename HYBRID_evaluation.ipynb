{
 "cells": [
  {
   "cell_type": "markdown",
   "id": "1e2d5369",
   "metadata": {},
   "source": [
    "## import packages"
   ]
  },
  {
   "cell_type": "code",
   "execution_count": null,
   "id": "1ada179e",
   "metadata": {},
   "outputs": [],
   "source": [
    "import pandas as pd\n",
    "from tqdm import tqdm\n",
    "from app.services.evaluation.map_evaluator import compute_map,average_precision\n",
    "from app.services.hybrid_service import HybridSearchService\n",
    "import os\n",
    "import asyncio"
   ]
  },
  {
   "cell_type": "markdown",
   "id": "b49b4008",
   "metadata": {},
   "source": [
    "## define datasetname"
   ]
  },
  {
   "cell_type": "code",
   "execution_count": null,
   "id": "4a4532b1",
   "metadata": {},
   "outputs": [],
   "source": [
    "dataset_name1='nano-beir/arguana'\n",
    "dataset_name2='beir/webis-touche2020/v2'\n",
    "dataset_name3='beir/quora/test'\n",
    "\n",
    "datasetname=dataset_name1\n",
    "name=datasetname.replace(\"/\", \"-\").replace(\"\\\\\", \"_\").strip()"
   ]
  },
  {
   "cell_type": "markdown",
   "id": "5adc7f7d",
   "metadata": {},
   "source": [
    "## Load queries and qrels files"
   ]
  },
  {
   "cell_type": "code",
   "execution_count": null,
   "id": "51e746ef",
   "metadata": {},
   "outputs": [],
   "source": [
    "if not datasetname:\n",
    "    raise ValueError(\"datasetname variable is not defined\")\n",
    "\n",
    "qrels_df = pd.read_csv(f\"data/{datasetname}/qrels.tsv\", sep=\"\\t\", names=[\"query_id\", \"doc_id\", \"relevance\"])\n",
    "# print(qrels_df)\n",
    "queries_df = pd.read_csv(f\"data/{datasetname}/queries.tsv\", sep=\"\\t\", names=[\"query_id\", \"text\"])\n"
   ]
  },
  {
   "cell_type": "markdown",
   "id": "25bbdc10",
   "metadata": {},
   "source": [
    "# make instance from EMBEDDING"
   ]
  },
  {
   "cell_type": "code",
   "execution_count": null,
   "id": "dffcbf64",
   "metadata": {},
   "outputs": [],
   "source": [
    "hybrid=HybridSearchService(collection_name=datasetname)\n",
    "await hybrid.load_models()\n",
    "map_scores = []\n",
    "query_ids = []"
   ]
  },
  {
   "cell_type": "markdown",
   "id": "94186016",
   "metadata": {},
   "source": [
    "## compute MAP"
   ]
  },
  {
   "cell_type": "code",
   "execution_count": null,
   "id": "94e6cf65",
   "metadata": {},
   "outputs": [],
   "source": [
    "\n",
    "for _, row in tqdm(queries_df.iterrows(), total=len(queries_df)):\n",
    "    query_id = row[\"query_id\"]\n",
    "    query_text = row[\"text\"]\n",
    "    \n",
    "    # Get top_k docs from your system\n",
    "    # search_results = hybrid.search(query_text, top_k=10000)\n",
    "    search_results = await hybrid.search(query_text, top_k=10000)\n",
    "\n",
    "\n",
    "\n",
    "    # Access the list of result dicts\n",
    "    result_items = search_results[\"results\"]\n",
    "    retrieved_doc_ids = [str(doc[\"doc_id\"]) for doc in result_items]\n",
    "\n",
    "    map_score = compute_map(retrieved_doc_ids, qrels_df, query_id)\n",
    "    print(f\"\\n map_score: {map_score}\")\n",
    "    map_scores.append(map_score)\n",
    "    query_ids.append(query_id)\n",
    "    # print(f\"\\n✅ Mean Average Precision (MAP): {map_score:.4f}\")\n"
   ]
  },
  {
   "cell_type": "markdown",
   "id": "fcf3ca0b",
   "metadata": {},
   "source": [
    "## save files "
   ]
  },
  {
   "cell_type": "code",
   "execution_count": null,
   "id": "77cd5d1b",
   "metadata": {},
   "outputs": [],
   "source": [
    "map_df = pd.DataFrame({\n",
    "    \"query_id\": query_ids,\n",
    "    \"map_score\": map_scores\n",
    "})\n",
    "\n",
    "output_dir = os.path.join(\"results\", \"MAP\", \"HYBRID\", name)\n",
    "os.makedirs(output_dir, exist_ok=True)\n",
    "\n",
    "output_path = os.path.join(output_dir, f\"{name}_map_scores.csv\")\n",
    "try:\n",
    "    map_df.to_csv(output_path, index=False)\n",
    "except Exception as e:\n",
    "    print(f\"Error saving file to {output_path}: {str(e)}\")\n",
    "    raise\n"
   ]
  },
  {
   "cell_type": "markdown",
   "id": "d1b04588",
   "metadata": {},
   "source": [
    "## get MAP result"
   ]
  },
  {
   "cell_type": "code",
   "execution_count": null,
   "id": "6cbc8d27",
   "metadata": {},
   "outputs": [],
   "source": [
    "# Also print overall MAP\n",
    "overall_map = sum(map_scores) / len(map_scores)\n",
    "print(f\"\\n📈 Overall MAP: {overall_map:.4f}\")"
   ]
  }
 ],
 "metadata": {
  "kernelspec": {
   "display_name": "venv",
   "language": "python",
   "name": "python3"
  },
  "language_info": {
   "codemirror_mode": {
    "name": "ipython",
    "version": 3
   },
   "file_extension": ".py",
   "mimetype": "text/x-python",
   "name": "python",
   "nbconvert_exporter": "python",
   "pygments_lexer": "ipython3",
   "version": "3.13.0"
  }
 },
 "nbformat": 4,
 "nbformat_minor": 5
}
